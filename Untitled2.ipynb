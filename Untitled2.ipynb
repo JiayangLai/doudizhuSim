{
 "cells": [
  {
   "cell_type": "code",
   "execution_count": 11,
   "metadata": {},
   "outputs": [
    {
     "name": "stdout",
     "output_type": "stream",
     "text": [
      "0\n",
      "1000\n",
      "2000\n",
      "3000\n",
      "4000\n",
      "5000\n",
      "6000\n",
      "7000\n",
      "8000\n",
      "9000\n"
     ]
    }
   ],
   "source": [
    "#!/usr/bin/env python\n",
    "# coding: utf-8\n",
    "\n",
    "# In[1]:\n",
    "\n",
    "\n",
    "import random\n",
    "from utils import cardsDistribution,allWays,allMains\n",
    "rankStd={'3':0,'4':1,'5':2,'6':3,'7':4,'8':5,'9':6,'T':7,'J':8,'Q':9,'K':10,'A':11,'2':12,'S':13,'B':14}\n",
    "\n",
    "\n",
    "# In[2]:\n",
    "\n",
    "\n",
    "class player:\n",
    "    def __init__(self,cardsList,playerNo):\n",
    "        self.cardsList=cardsList\n",
    "        self.playerNo=playerNo\n",
    "    def ranking(self,lastPlayOut,thisPlayOut):\n",
    "        if thisPlayOut[0]=='SB':\n",
    "            return True\n",
    "        else:\n",
    "            if lastPlayOut[1] in ['solo','pair','bomb','triosolo','triopair','fourdualsolos','fourdualpairs']:\n",
    "                if rankStd[thisPlayOut[0][0]]>rankStd[lastPlayOut[0][0]]:\n",
    "                    return True\n",
    "                else:\n",
    "                    return False\n",
    "            elif lastPlayOut[1] in ['soloschain','pairschain','trioschain']:\n",
    "                if rankStd[thisPlayOut[0][-1]]>rankStd[lastPlayOut[0][-1]]:\n",
    "                    return True\n",
    "                else:\n",
    "                    return False\n",
    "            elif lastPlayOut[1]=='triosolochains':\n",
    "                Chainlen = int(len(lastPlayOut[0])/4)\n",
    "#                 print(Chainlen)\n",
    "                if rankStd[thisPlayOut[0][-Chainlen-1]]>rankStd[lastPlayOut[0][-Chainlen-1]]:\n",
    "                    return True\n",
    "                else:\n",
    "                    return False\n",
    "            elif lastPlayOut[1]=='triopairchains':\n",
    "                Chainlen = int(len(lastPlayOut[0])/5)\n",
    "                if rankStd[thisPlayOut[0][-Chainlen-1]]>rankStd[lastPlayOut[0][-Chainlen-1]]:\n",
    "                    return True\n",
    "                else:\n",
    "                    return False\n",
    "                \n",
    "    def activateRandomPlay(self,cardsFlowStr):\n",
    "#         print(self.playerNo,'active',self.cardsList)\n",
    "        allWaysList = allWays(self.cardsList)\n",
    "        playOut = random.sample(allWaysList, 1)[0]\n",
    "        for cardout in playOut[0]:\n",
    "            self.cardsList.remove(cardout)\n",
    "        return playOut,cardsFlowStr+str(self.playerNo)+','+playOut[0]+';'\n",
    "    def passiveRandomPlay(self,cardsFlowStr,outCards):\n",
    "#         print(self.playerNo,'passive',self.cardsList)\n",
    "        allWaysList = [['','pass']]+allWays(self.cardsList)\n",
    "        category = outCards[1]\n",
    "        while 1:\n",
    "            playOut = random.sample(allWaysList, 1)[0]\n",
    "            if playOut[0]=='':\n",
    "                return playOut,cardsFlowStr\n",
    "            else:\n",
    "                if playOut[1]=='rocket' or (playOut[1]=='bomb' and outCards[1]!='bomb'):\n",
    "                    for cardout in playOut[0]:\n",
    "                        self.cardsList.remove(cardout)\n",
    "                    return playOut,cardsFlowStr+str(self.playerNo)+','+playOut[0]+';'\n",
    "                else:\n",
    "                    if playOut[1]==category and len(playOut[0])==len(outCards[0]) and self.ranking(outCards,playOut):\n",
    "                        for cardout in playOut[0]:\n",
    "                            self.cardsList.remove(cardout)\n",
    "                        return playOut,cardsFlowStr+str(self.playerNo)+','+playOut[0]+';'\n",
    "                    else:\n",
    "                        allWaysList.remove(playOut)\n",
    "\n",
    "    def modedPlayRandom(self,cardsFlowStr,outCards=None):\n",
    "        if not outCards:\n",
    "            return self.activateRandomPlay(cardsFlowStr)\n",
    "        else:\n",
    "            if cardsFlowStr.split(';')[-2].split(',')[0]==str(self.playerNo):\n",
    "                return self.activateRandomPlay(cardsFlowStr)\n",
    "            else:\n",
    "                return self.passiveRandomPlay(cardsFlowStr,outCards)\n",
    "                \n",
    "\n",
    "\n",
    "# In[3]:\n",
    "roundsList=[]\n",
    "awl = allWays(list(rankStd.keys())*4)\n",
    "DW=0\n",
    "NW=0\n",
    "for i in range(10000):\n",
    "    if i%1000==0:\n",
    "        print(i)\n",
    "    D,DU,DD=cardsDistribution()\n",
    "    dz = player(D,0)\n",
    "    dd = player(DD,1)\n",
    "    du = player(DU,2)\n",
    "    cardsFlowStr=''\n",
    "    outCards=None\n",
    "    while 1:\n",
    "#         print(dz.cardsList)\n",
    "#         print(cardsFlowStr)\n",
    "#         cards = input(\"input cards: \")\n",
    "\n",
    "#         if cards!='':\n",
    "#             for ii in awl:\n",
    "#                 if cards==ii[0]:\n",
    "#                     category=ii[1]\n",
    "#                     break\n",
    "#         #category = input(\"input category: \")\n",
    "#             outCards=[cards,category]\n",
    "#             cardsFlowStr = cardsFlowStr+str(dz.playerNo)+','+cards+';'\n",
    "#             for i in outCards[0]:\n",
    "#                 dz.cardsList.remove(i)\n",
    "#         else:\n",
    "#             outCards=['','pass']\n",
    "        outCards,cardsFlowStr = dz.modedPlayRandom(cardsFlowStr,outCards)\n",
    "    #     print(outCards)\n",
    "#         print(cardsFlowStr)\n",
    "    #     print()\n",
    "        if dz.cardsList==[]:\n",
    "            DW=DW+1\n",
    "            roundsList=roundsList+[len(cardsFlowStr.split(';'))-1]\n",
    "            break\n",
    "        outCards,cardsFlowStr = dd.modedPlayRandom(cardsFlowStr,outCards)\n",
    "#         print('ddrest',len(dd.cardsList))\n",
    "    #     print(outCards)\n",
    "#         print(cardsFlowStr)\n",
    "    #     print()\n",
    "        if dd.cardsList==[]:\n",
    "            NW=NW+1\n",
    "            roundsList=roundsList+[len(cardsFlowStr.split(';'))-1]\n",
    "            break\n",
    "        outCards,cardsFlowStr = du.modedPlayRandom(cardsFlowStr,outCards)\n",
    "#         print('durest',len(du.cardsList))\n",
    "\n",
    "    #     print(outCards)\n",
    "#         print(cardsFlowStr)\n",
    "    #     print()\n",
    "        if du.cardsList==[]:\n",
    "            NW=NW+1\n",
    "            roundsList=roundsList+[len(cardsFlowStr.split(';'))-1]\n",
    "            break\n",
    "# print(DW,NW)\n",
    "# print('ddrest',dd.cardsList)\n",
    "# print('durest',du.cardsList)\n",
    "# print(cardsFlowStr)\n",
    "# print(roundsList)\n",
    "\n",
    "# In[4]:\n",
    "\n",
    "\n",
    "# allWays(list(rankStd.keys())*4)\n",
    "\n",
    "\n",
    "# In[ ]:\n",
    "\n",
    "\n",
    "\n",
    "\n"
   ]
  },
  {
   "cell_type": "code",
   "execution_count": 12,
   "metadata": {},
   "outputs": [],
   "source": [
    "def averagenum(num):\n",
    "    nsum = 0\n",
    "    for i in range(len(num)):\n",
    "        nsum += num[i]\n",
    "    return nsum / len(num)"
   ]
  },
  {
   "cell_type": "code",
   "execution_count": 13,
   "metadata": {},
   "outputs": [
    {
     "data": {
      "text/plain": [
       "28.1709"
      ]
     },
     "execution_count": 13,
     "metadata": {},
     "output_type": "execute_result"
    }
   ],
   "source": [
    "averagenum(roundsList)"
   ]
  },
  {
   "cell_type": "code",
   "execution_count": 14,
   "metadata": {},
   "outputs": [
    {
     "data": {
      "text/plain": [
       "4.3278517478617785e-05"
      ]
     },
     "execution_count": 14,
     "metadata": {},
     "output_type": "execute_result"
    }
   ],
   "source": [
    "0.7**28.1709"
   ]
  },
  {
   "cell_type": "code",
   "execution_count": 15,
   "metadata": {},
   "outputs": [
    {
     "data": {
      "text/plain": [
       "0.8991146036130742"
      ]
     },
     "execution_count": 15,
     "metadata": {},
     "output_type": "execute_result"
    }
   ],
   "source": [
    "0.05**(1/28.17)"
   ]
  },
  {
   "cell_type": "code",
   "execution_count": 16,
   "metadata": {},
   "outputs": [
    {
     "data": {
      "text/plain": [
       "0.9215125250512117"
      ]
     },
     "execution_count": 16,
     "metadata": {},
     "output_type": "execute_result"
    }
   ],
   "source": [
    "0.1**(1/28.17)"
   ]
  },
  {
   "cell_type": "code",
   "execution_count": 19,
   "metadata": {},
   "outputs": [
    {
     "data": {
      "text/plain": [
       "0.9722084966018102"
      ]
     },
     "execution_count": 19,
     "metadata": {},
     "output_type": "execute_result"
    }
   ],
   "source": [
    "0.999**28.1709"
   ]
  },
  {
   "cell_type": "code",
   "execution_count": null,
   "metadata": {},
   "outputs": [],
   "source": []
  }
 ],
 "metadata": {
  "kernelspec": {
   "display_name": "Python 3",
   "language": "python",
   "name": "python3"
  },
  "language_info": {
   "codemirror_mode": {
    "name": "ipython",
    "version": 3
   },
   "file_extension": ".py",
   "mimetype": "text/x-python",
   "name": "python",
   "nbconvert_exporter": "python",
   "pygments_lexer": "ipython3",
   "version": "3.7.3"
  }
 },
 "nbformat": 4,
 "nbformat_minor": 2
}
