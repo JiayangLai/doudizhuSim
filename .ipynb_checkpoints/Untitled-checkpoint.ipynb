{
 "cells": [
  {
   "cell_type": "code",
   "execution_count": 30,
   "metadata": {},
   "outputs": [],
   "source": [
    "import random\n",
    "rankStd={'3':0,'4':1,'5':2,'6':3,'7':4,'8':5,'9':6,'T':7,'J':8,'Q':9,'K':10,'A':11,'2':12,'S':13,'B':14}"
   ]
  },
  {
   "cell_type": "code",
   "execution_count": 31,
   "metadata": {},
   "outputs": [],
   "source": [
    "def sort_by_value(d): \n",
    "    items=d.items() \n",
    "    backitems=[[v[1],v[0]] for v in items] \n",
    "    backitems.sort() \n",
    "    return [ backitems[i][1] for i in range(0,len(backitems))] "
   ]
  },
  {
   "cell_type": "code",
   "execution_count": 32,
   "metadata": {},
   "outputs": [],
   "source": [
    "\n",
    "def sortInRanks(cardsin):\n",
    "    dictin = {}\n",
    "    for cardi in cardsin:\n",
    "        dictin[cardi]=rankStd[cardi]\n",
    "    \n",
    "    return sort_by_value(dictin)"
   ]
  },
  {
   "cell_type": "code",
   "execution_count": 33,
   "metadata": {},
   "outputs": [],
   "source": [
    "def solos(cardsIn):\n",
    "    cardsIn = list(set(cardsIn))\n",
    "    cardsIn = sortInRanks(cardsIn)\n",
    "    return(cardsIn)"
   ]
  },
  {
   "cell_type": "code",
   "execution_count": 34,
   "metadata": {},
   "outputs": [],
   "source": [
    "def pairs(cardsIn):\n",
    "    listpair = []\n",
    "    for i in cardsIn:\n",
    "        if cardsIn.count(i)>=2:\n",
    "            listpair = listpair + [i]\n",
    "    listpair = list(set(listpair))\n",
    "    return(sortInRanks(listpair))"
   ]
  },
  {
   "cell_type": "code",
   "execution_count": 35,
   "metadata": {},
   "outputs": [],
   "source": [
    "def trios(cardsIn):\n",
    "    listpair = []\n",
    "    for i in cardsIn:\n",
    "        if cardsIn.count(i)>=3:\n",
    "            listpair = listpair + [i]\n",
    "    listpair = list(set(listpair))\n",
    "    return(sortInRanks(listpair))"
   ]
  },
  {
   "cell_type": "code",
   "execution_count": 36,
   "metadata": {},
   "outputs": [],
   "source": [
    "def bomb(cardsIn):\n",
    "    listpair = []\n",
    "    for i in cardsIn:\n",
    "        if cardsIn.count(i)==4:\n",
    "            listpair = listpair + [i]\n",
    "    listpair = list(set(listpair))\n",
    "    return(sortInRanks(listpair))"
   ]
  },
  {
   "cell_type": "code",
   "execution_count": 37,
   "metadata": {},
   "outputs": [],
   "source": [
    "def rocket(cardsIn):\n",
    "    if 'B' in cardsIn and 'S' in cardsIn:\n",
    "        return ['SB']\n",
    "    else:\n",
    "        return []"
   ]
  },
  {
   "cell_type": "code",
   "execution_count": 38,
   "metadata": {},
   "outputs": [],
   "source": [
    "def cardsDistribution(seedin=None):\n",
    "    list1 = ['A']*4\n",
    "    list2 = ['2']*4\n",
    "    list3 = ['3']*4\n",
    "    list4 = ['4']*4\n",
    "    list5 = ['5']*4\n",
    "    list6 = ['6']*4\n",
    "    list7 = ['7']*4\n",
    "    list8 = ['8']*4\n",
    "    list9 = ['9']*4\n",
    "    listT = ['T']*4\n",
    "    listJ = ['J']*4\n",
    "    listQ = ['Q']*4\n",
    "    listK = ['K']*4\n",
    "    listB = ['S']\n",
    "    listS = ['B']\n",
    "    allcards = list1+list2+list3+list4+list5+list6+list7+list8+list9+listT+listJ+listQ+listK+listB+listS\n",
    "    allcards\n",
    "    if seedin:\n",
    "        random.seed(seedin)\n",
    "    dizhu = random.sample(allcards, 20)  \n",
    "    for x in dizhu:\n",
    "        allcards.remove(x)\n",
    "\n",
    "    dizhuup = random.sample(allcards, 17)  \n",
    "    for x in dizhuup:\n",
    "        allcards.remove(x)\n",
    "\n",
    "    dizhudown = random.sample(allcards, 17)  \n",
    "    for x in dizhudown:\n",
    "        allcards.remove(x)\n",
    "\n",
    "    return dizhu,dizhuup,dizhudown"
   ]
  },
  {
   "cell_type": "code",
   "execution_count": 39,
   "metadata": {},
   "outputs": [],
   "source": [
    "def solosChains(solosList):\n",
    "    if '2' in solosList:\n",
    "        solosList.remove('2')\n",
    "    if 'B' in solosList:\n",
    "        solosList.remove('B')\n",
    "    if 'S' in solosList:\n",
    "        solosList.remove('S')\n",
    "    lensolosList = len(solosList)\n",
    "    solosChainsList=[]\n",
    "    for lenth in [5,6,7,8,9,10,11,12]:\n",
    "        if lenth<=lensolosList:\n",
    "            listcount = list(range(lensolosList-lenth))\n",
    "            if listcount==[]:\n",
    "                listcount=[0]\n",
    "            for i in listcount:\n",
    "                if rankStd[solosList[i+lenth-1]]-rankStd[solosList[i]]==lenth-1:\n",
    "                    solosChainsList=solosChainsList+[''.join(solosList[i:i+lenth])]\n",
    "                \n",
    "        else:\n",
    "            break\n",
    "    return solosChainsList"
   ]
  },
  {
   "cell_type": "code",
   "execution_count": 40,
   "metadata": {},
   "outputs": [],
   "source": [
    "def pairsChains(pairsList):\n",
    "    if '2' in pairsList:\n",
    "        pairsList.remove('2')\n",
    "    if 'B' in pairsList:\n",
    "        pairsList.remove('B')\n",
    "    if 'S' in pairsList:\n",
    "        pairsList.remove('S')\n",
    "    lenpairsList = len(pairsList)\n",
    "    pairsChainsList=[]\n",
    "    for lenth in [3,4,5,6,7,8,9,10]:\n",
    "        if lenth<=lenpairsList:\n",
    "            listcount = list(range(lenpairsList-lenth))\n",
    "            if listcount==[]:\n",
    "                listcount=[0]\n",
    "            for i in listcount:\n",
    "                if rankStd[pairsList[i+lenth-1]]-rankStd[pairsList[i]]==lenth-1:\n",
    "                    pairsList2 = pairsList[i:i+lenth]\n",
    "                    pairsList2 = sortInRanks(pairsList2)\n",
    "                    for i in pairsList2:\n",
    "                        pairsList2[pairsList2.index(i)]=i+i\n",
    "                        \n",
    "                    pairsChainsList=pairsChainsList+[''.join(pairsList2)]\n",
    "                \n",
    "        else:\n",
    "            break\n",
    "    return pairsChainsList"
   ]
  },
  {
   "cell_type": "code",
   "execution_count": 41,
   "metadata": {},
   "outputs": [],
   "source": [
    "def triosChains(triosList):\n",
    "    if '2' in triosList:\n",
    "        triosList.remove('2')\n",
    "    if 'B' in triosList:\n",
    "        triosList.remove('B')\n",
    "    if 'S' in triosList:\n",
    "        triosList.remove('S')\n",
    "    lentriosList = len(triosList)\n",
    "    triosChainsList=[]\n",
    "    for lenth in [2,3,4,5,6]:\n",
    "        if lenth<=lentriosList:\n",
    "            listcount = list(range(lentriosList-lenth))\n",
    "            if listcount==[]:\n",
    "                listcount=[0]\n",
    "            for i in listcount:\n",
    "                if rankStd[triosList[i+lenth-1]]-rankStd[triosList[i]]==lenth-1:\n",
    "                    triosList2 = triosList[i:i+lenth]\n",
    "                    triosList2 = sortInRanks(triosList2)\n",
    "                    for i in triosList2:\n",
    "                        triosList2[triosList2.index(i)]=i+i+i\n",
    "                        \n",
    "                    triosChainsList=triosChainsList+[''.join(triosList2)]\n",
    "                \n",
    "        else:\n",
    "            break\n",
    "    return triosChainsList"
   ]
  },
  {
   "cell_type": "code",
   "execution_count": 42,
   "metadata": {},
   "outputs": [],
   "source": [
    "def triosSolo(triosList,solosList):\n",
    "    triosSoloList = []\n",
    "    for t in triosList:\n",
    "        newSolos = solosList[:]\n",
    "        newSolos.remove(t)\n",
    "        for s in newSolos:\n",
    "            triosSoloList = triosSoloList+[t+t+t+s]\n",
    "    return triosSoloList"
   ]
  },
  {
   "cell_type": "code",
   "execution_count": 43,
   "metadata": {},
   "outputs": [],
   "source": [
    "def triosPair(triosList,pairsList):\n",
    "    triosPairList = []\n",
    "    for t in triosList:\n",
    "        newPairs = pairsList[:]\n",
    "        newPairs.remove(t)\n",
    "        for p in newPairs:\n",
    "            triosPairList = triosPairList+[t+t+t+p+p]\n",
    "    return triosPairList"
   ]
  },
  {
   "cell_type": "code",
   "execution_count": 51,
   "metadata": {},
   "outputs": [],
   "source": [
    "def triosSoloChains(triosChainsList,solosList):\n",
    "    triosSoloChainsList=[]\n",
    "    for chaini in triosChainsList:\n",
    "        chainiList = list(set(list(chaini)))\n",
    "        chainiList = sortInRanks(chainiList)\n",
    "        newSolos = solosList[:]\n",
    "        for t in chainiList:\n",
    "            newSolos.remove(t)\n",
    "        \n",
    "        if len(chainiList)==2:\n",
    "            listcn2 = cn2(newSolos)\n",
    "            for cn2i in listcn2:\n",
    "                triosSoloChainsList = triosSoloChainsList+[chaini+cn2i[0]+cn2i[1]]\n",
    "        if len(chainiList)==3:\n",
    "            listcn3 = cn3(newSolos)\n",
    "            for cn3i in listcn3:\n",
    "                triosSoloChainsList = triosSoloChainsList+[chaini+cn3i[0]+cn3i[1]+cn3i[2]]\n",
    "        if len(chainiList)==4:\n",
    "            listcn4 = cn4(newSolos)\n",
    "            for cn4i in listcn4:\n",
    "                triosSoloChainsList = triosSoloChainsList+[chaini+cn4i[0]+cn4i[1]+cn4i[2]+cn4i[3]]\n",
    "        if len(chainiList)==5:\n",
    "            listcn5 = cn5(newSolos)\n",
    "            for cn5i in listcn5:\n",
    "                triosSoloChainsList = triosSoloChainsList+[chaini+cn5i[0]+cn5i[1]+cn5i[2]+cn5i[3]+cn5i[4]]\n",
    "            \n",
    "            \n",
    "            \n",
    "    return triosSoloChainsList"
   ]
  },
  {
   "cell_type": "code",
   "execution_count": 52,
   "metadata": {},
   "outputs": [],
   "source": [
    "def cn2(lista):\n",
    "    listcn2=[]\n",
    "    listb=lista[:]\n",
    "    for i in lista:\n",
    "        listb.remove(i)\n",
    "        for j in listb:\n",
    "            listcn2 = listcn2+[[i,j]]\n",
    "    return listcn2\n",
    "\n",
    "def cn3(lista):\n",
    "    listcn3=[]\n",
    "    listb=lista[:]\n",
    "    for i in lista:\n",
    "        listb.remove(i)\n",
    "        listc=listb[:]\n",
    "        for j in listb:\n",
    "            listc.remove(j)\n",
    "            for k in listc:\n",
    "                listcn3 = listcn3+[[i,j,k]]\n",
    "    return listcn3\n",
    "\n",
    "def cn4(lista):\n",
    "    listcn4=[]\n",
    "    listb=lista[:]\n",
    "    for i in lista:\n",
    "        listb.remove(i)\n",
    "        listc=listb[:]\n",
    "        for j in listb:\n",
    "            listc.remove(j)\n",
    "            listd=listc[:]\n",
    "            for k in listc:\n",
    "                listd.remove(k)\n",
    "                for l in listd:\n",
    "                    listcn4 = listcn4+[[i,j,k,l]]\n",
    "    return listcn4\n",
    "\n",
    "def cn5(lista):\n",
    "    listcn5=[]\n",
    "    listb=lista[:]\n",
    "    for i in lista:\n",
    "        listb.remove(i)\n",
    "        listc=listb[:]\n",
    "        for j in listb:\n",
    "            listc.remove(j)\n",
    "            listd=listc[:]\n",
    "            for k in listc:\n",
    "                listd.remove(k)\n",
    "                liste=listd[:]\n",
    "                for l in listd:\n",
    "                    liste.remove(l)\n",
    "                    for m in liste:\n",
    "                        listcn5 = listcn5+[[i,j,k,l,m]]\n",
    "    return listcn5"
   ]
  },
  {
   "cell_type": "code",
   "execution_count": 75,
   "metadata": {},
   "outputs": [
    {
     "name": "stdout",
     "output_type": "stream",
     "text": [
      "['3', '5', '6', '7', '8', '9', 'T', 'J', 'Q', 'K', 'A', 'B']\n",
      "['3', '5', 'T', 'J', 'A']\n",
      "['3', 'J', 'A']\n",
      "['56789', '6789T', '789TJ', '89TJQ', '9TJQK', '56789T', '6789TJ', '789TJQ', '89TJQK', '56789TJ', '6789TJQ', '789TJQK', '56789TJQ', '6789TJQK', '56789TJQK']\n",
      "[]\n",
      "[]\n",
      "[]\n",
      "[]\n",
      "['3335', '3336', '3337', '3338', '3339', '333T', '333J', '333Q', '333K', '333A', '333B', 'JJJ3', 'JJJ5', 'JJJ6', 'JJJ7', 'JJJ8', 'JJJ9', 'JJJT', 'JJJQ', 'JJJK', 'JJJA', 'JJJB', 'AAA3', 'AAA5', 'AAA6', 'AAA7', 'AAA8', 'AAA9', 'AAAT', 'AAAJ', 'AAAQ', 'AAAK', 'AAAB']\n",
      "['33355', '333TT', '333JJ', '333AA', 'JJJ33', 'JJJ55', 'JJJTT', 'JJJAA', 'AAA33', 'AAA55', 'AAATT', 'AAAJJ']\n",
      "[]\n"
     ]
    }
   ],
   "source": [
    "dizhu,dizhuup,dizhudown = cardsDistribution(seedin=None)\n",
    "print(solos(dizhu))\n",
    "print(pairs(dizhu))\n",
    "print(trios(dizhu))\n",
    "print(solosChains(solos(dizhu)))\n",
    "print(pairsChains(pairs(dizhu)))\n",
    "print(triosChains(trios(dizhu)))\n",
    "print(bomb(dizhu))\n",
    "print(rocket(dizhu))\n",
    "print(triosSolo(trios(dizhu),solos(dizhu)))\n",
    "print(triosPair(trios(dizhu),pairs(dizhu)))\n",
    "print(triosSoloChains(triosChains(trios(dizhu)),solos(dizhu)))"
   ]
  },
  {
   "cell_type": "code",
   "execution_count": 17,
   "metadata": {},
   "outputs": [],
   "source": [
    "lista = ['a','b','c','d','e','f']"
   ]
  },
  {
   "cell_type": "code",
   "execution_count": 23,
   "metadata": {},
   "outputs": [
    {
     "data": {
      "text/plain": [
       "2"
      ]
     },
     "execution_count": 23,
     "metadata": {},
     "output_type": "execute_result"
    }
   ],
   "source": [
    "a = [[1,2],[3,4],[5,6],[7,8]]\n",
    "a[0][1]"
   ]
  },
  {
   "cell_type": "code",
   "execution_count": 27,
   "metadata": {},
   "outputs": [
    {
     "data": {
      "text/plain": [
       "[['a', 'b', 'c', 'd', 'e'],\n",
       " ['a', 'b', 'c', 'd', 'f'],\n",
       " ['a', 'b', 'c', 'e', 'f'],\n",
       " ['a', 'b', 'd', 'e', 'f'],\n",
       " ['a', 'c', 'd', 'e', 'f'],\n",
       " ['b', 'c', 'd', 'e', 'f']]"
      ]
     },
     "execution_count": 27,
     "metadata": {},
     "output_type": "execute_result"
    }
   ],
   "source": [
    "cn5(lista)"
   ]
  },
  {
   "cell_type": "code",
   "execution_count": null,
   "metadata": {},
   "outputs": [],
   "source": []
  }
 ],
 "metadata": {
  "kernelspec": {
   "display_name": "Python 3",
   "language": "python",
   "name": "python3"
  },
  "language_info": {
   "codemirror_mode": {
    "name": "ipython",
    "version": 3
   },
   "file_extension": ".py",
   "mimetype": "text/x-python",
   "name": "python",
   "nbconvert_exporter": "python",
   "pygments_lexer": "ipython3",
   "version": "3.7.3"
  }
 },
 "nbformat": 4,
 "nbformat_minor": 2
}
