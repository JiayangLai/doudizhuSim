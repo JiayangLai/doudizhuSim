{
 "cells": [
  {
   "cell_type": "code",
   "execution_count": 198,
   "metadata": {},
   "outputs": [],
   "source": [
    "import random\n",
    "rankStd={'3':0,'4':1,'5':2,'6':3,'7':4,'8':5,'9':6,'T':7,'J':8,'Q':9,'K':10,'A':11,'2':12,'S':13,'B':14}"
   ]
  },
  {
   "cell_type": "code",
   "execution_count": 199,
   "metadata": {},
   "outputs": [],
   "source": [
    "def sort_by_value(d): \n",
    "    items=d.items() \n",
    "    backitems=[[v[1],v[0]] for v in items] \n",
    "    backitems.sort() \n",
    "    return [ backitems[i][1] for i in range(0,len(backitems))] "
   ]
  },
  {
   "cell_type": "code",
   "execution_count": 200,
   "metadata": {},
   "outputs": [],
   "source": [
    "\n",
    "def sortInRanks(cardsin):\n",
    "    dictin = {}\n",
    "    for cardi in cardsin:\n",
    "        dictin[cardi]=rankStd[cardi]\n",
    "    \n",
    "    return sort_by_value(dictin)"
   ]
  },
  {
   "cell_type": "code",
   "execution_count": 201,
   "metadata": {},
   "outputs": [],
   "source": [
    "def solos(cardsIn):\n",
    "    cardsIn = list(set(cardsIn))\n",
    "    cardsIn = sortInRanks(cardsIn)\n",
    "    return(cardsIn)"
   ]
  },
  {
   "cell_type": "code",
   "execution_count": 202,
   "metadata": {},
   "outputs": [],
   "source": [
    "def pairs(cardsIn):\n",
    "    listpair = []\n",
    "    for i in cardsIn:\n",
    "        if cardsIn.count(i)>=2:\n",
    "            listpair = listpair + [i]\n",
    "    listpair = list(set(listpair))\n",
    "    return(sortInRanks(listpair))"
   ]
  },
  {
   "cell_type": "code",
   "execution_count": 203,
   "metadata": {},
   "outputs": [],
   "source": [
    "def trios(cardsIn):\n",
    "    listpair = []\n",
    "    for i in cardsIn:\n",
    "        if cardsIn.count(i)>=3:\n",
    "            listpair = listpair + [i]\n",
    "    listpair = list(set(listpair))\n",
    "    return(sortInRanks(listpair))"
   ]
  },
  {
   "cell_type": "code",
   "execution_count": 204,
   "metadata": {},
   "outputs": [],
   "source": [
    "def bomb(cardsIn):\n",
    "    listpair = []\n",
    "    for i in cardsIn:\n",
    "        if cardsIn.count(i)==4:\n",
    "            listpair = listpair + [i]\n",
    "    listpair = list(set(listpair))\n",
    "    return(sortInRanks(listpair))"
   ]
  },
  {
   "cell_type": "code",
   "execution_count": 205,
   "metadata": {},
   "outputs": [],
   "source": [
    "def rocket(cardsIn):\n",
    "    if 'B' in cardsIn and 'S' in cardsIn:\n",
    "        return ['SB']\n",
    "    else:\n",
    "        return []"
   ]
  },
  {
   "cell_type": "code",
   "execution_count": 206,
   "metadata": {},
   "outputs": [],
   "source": [
    "def cardsDistribution(seedin=None):\n",
    "    list1 = ['A']*4\n",
    "    list2 = ['2']*4\n",
    "    list3 = ['3']*4\n",
    "    list4 = ['4']*4\n",
    "    list5 = ['5']*4\n",
    "    list6 = ['6']*4\n",
    "    list7 = ['7']*4\n",
    "    list8 = ['8']*4\n",
    "    list9 = ['9']*4\n",
    "    listT = ['T']*4\n",
    "    listJ = ['J']*4\n",
    "    listQ = ['Q']*4\n",
    "    listK = ['K']*4\n",
    "    listB = ['B']\n",
    "    listS = ['S']\n",
    "    allcards = list1+list2+list3+list4+list5+list6+list7+list8+list9+listT+listJ+listQ+listK+listB+listS\n",
    "    allcards\n",
    "    if seedin:\n",
    "        random.seed(seedin)\n",
    "    dizhu = random.sample(allcards, 20)  \n",
    "    for x in dizhu:\n",
    "        allcards.remove(x)\n",
    "\n",
    "    dizhuup = random.sample(allcards, 17)  \n",
    "    for x in dizhuup:\n",
    "        allcards.remove(x)\n",
    "\n",
    "    dizhudown = random.sample(allcards, 17)  \n",
    "    for x in dizhudown:\n",
    "        allcards.remove(x)\n",
    "\n",
    "    return dizhu,dizhuup,dizhudown"
   ]
  },
  {
   "cell_type": "code",
   "execution_count": 207,
   "metadata": {},
   "outputs": [],
   "source": [
    "def solosChains(solosList):\n",
    "    if '2' in solosList:\n",
    "        solosList.remove('2')\n",
    "    if 'B' in solosList:\n",
    "        solosList.remove('B')\n",
    "    if 'S' in solosList:\n",
    "        solosList.remove('S')\n",
    "    lensolosList = len(solosList)\n",
    "    solosChainsList=[]\n",
    "    for lenth in [5,6,7,8,9,10,11,12]:\n",
    "        if lenth<=lensolosList:\n",
    "            listcount = list(range(lensolosList-lenth))\n",
    "            if listcount==[]:\n",
    "                listcount=[0]\n",
    "            for i in listcount:\n",
    "                if rankStd[solosList[i+lenth-1]]-rankStd[solosList[i]]==lenth-1:\n",
    "                    solosChainsList=solosChainsList+[''.join(solosList[i:i+lenth])]\n",
    "                \n",
    "        else:\n",
    "            break\n",
    "    return solosChainsList"
   ]
  },
  {
   "cell_type": "code",
   "execution_count": 208,
   "metadata": {},
   "outputs": [],
   "source": [
    "def pairsChains(pairsList):\n",
    "    if '2' in pairsList:\n",
    "        pairsList.remove('2')\n",
    "    if 'B' in pairsList:\n",
    "        pairsList.remove('B')\n",
    "    if 'S' in pairsList:\n",
    "        pairsList.remove('S')\n",
    "    lenpairsList = len(pairsList)\n",
    "    pairsChainsList=[]\n",
    "    for lenth in [3,4,5,6,7,8,9,10]:\n",
    "        if lenth<=lenpairsList:\n",
    "            listcount = list(range(lenpairsList-lenth))\n",
    "            if listcount==[]:\n",
    "                listcount=[0]\n",
    "            for i in listcount:\n",
    "                if rankStd[pairsList[i+lenth-1]]-rankStd[pairsList[i]]==lenth-1:\n",
    "                    pairsList2 = pairsList[i:i+lenth]\n",
    "                    pairsList2 = sortInRanks(pairsList2)\n",
    "                    for i in pairsList2:\n",
    "                        pairsList2[pairsList2.index(i)]=i+i\n",
    "                        \n",
    "                    pairsChainsList=pairsChainsList+[''.join(pairsList2)]\n",
    "                \n",
    "        else:\n",
    "            break\n",
    "    return pairsChainsList"
   ]
  },
  {
   "cell_type": "code",
   "execution_count": 209,
   "metadata": {},
   "outputs": [],
   "source": [
    "def triosChains(triosList):\n",
    "    if '2' in triosList:\n",
    "        triosList.remove('2')\n",
    "    if 'B' in triosList:\n",
    "        triosList.remove('B')\n",
    "    if 'S' in triosList:\n",
    "        triosList.remove('S')\n",
    "    lentriosList = len(triosList)\n",
    "    triosChainsList=[]\n",
    "    for lenth in [2,3,4,5,6]:\n",
    "        if lenth<=lentriosList:\n",
    "            listcount = list(range(lentriosList-lenth))\n",
    "            if listcount==[]:\n",
    "                listcount=[0]\n",
    "            for i in listcount:\n",
    "                if rankStd[triosList[i+lenth-1]]-rankStd[triosList[i]]==lenth-1:\n",
    "                    triosList2 = triosList[i:i+lenth]\n",
    "                    triosList2 = sortInRanks(triosList2)\n",
    "                    for i in triosList2:\n",
    "                        triosList2[triosList2.index(i)]=i+i+i\n",
    "                        \n",
    "                    triosChainsList=triosChainsList+[''.join(triosList2)]\n",
    "                \n",
    "        else:\n",
    "            break\n",
    "    return triosChainsList"
   ]
  },
  {
   "cell_type": "code",
   "execution_count": 210,
   "metadata": {},
   "outputs": [],
   "source": [
    "def triosSolo(triosList,solosList):\n",
    "    triosSoloList = []\n",
    "    for t in triosList:\n",
    "        newSolos = solosList[:]\n",
    "        newSolos.remove(t)\n",
    "        for s in newSolos:\n",
    "            triosSoloList = triosSoloList+[t+t+t+s]\n",
    "    return triosSoloList"
   ]
  },
  {
   "cell_type": "code",
   "execution_count": 211,
   "metadata": {},
   "outputs": [],
   "source": [
    "def triosPair(triosList,pairsList):\n",
    "    triosPairList = []\n",
    "    for t in triosList:\n",
    "        newPairs = pairsList[:]\n",
    "        newPairs.remove(t)\n",
    "        for p in newPairs:\n",
    "            triosPairList = triosPairList+[t+t+t+p+p]\n",
    "    return triosPairList"
   ]
  },
  {
   "cell_type": "code",
   "execution_count": 213,
   "metadata": {},
   "outputs": [
    {
     "name": "stdout",
     "output_type": "stream",
     "text": [
      "['3', '4', '5', '6', '7', '9', 'T', 'Q', 'K', 'A', '2', 'S']\n",
      "['7', 'T', 'Q', 'K', '2']\n",
      "['7', 'Q', '2']\n",
      "['34567']\n",
      "[]\n",
      "[]\n",
      "[]\n",
      "[]\n",
      "['7773', '7774', '7775', '7776', '7779', '777T', '777Q', '777K', '777A', '7772', '777S', 'QQQ3', 'QQQ4', 'QQQ5', 'QQQ6', 'QQQ7', 'QQQ9', 'QQQT', 'QQQK', 'QQQA', 'QQQ2', 'QQQS', '2223', '2224', '2225', '2226', '2227', '2229', '222T', '222Q', '222K', '222A', '222S']\n",
      "['777TT', '777QQ', '777KK', '77722', 'QQQ77', 'QQQTT', 'QQQKK', 'QQQ22', '22277', '222TT', '222QQ', '222KK']\n"
     ]
    }
   ],
   "source": [
    "dizhu,dizhuup,dizhudown = cardsDistribution(seedin=None)\n",
    "print(solos(dizhu))\n",
    "print(pairs(dizhu))\n",
    "print(trios(dizhu))\n",
    "print(solosChains(solos(dizhu)))\n",
    "print(pairsChains(pairs(dizhu)))\n",
    "print(triosChains(trios(dizhu)))\n",
    "print(bomb(dizhu))\n",
    "print(rocket(dizhu))\n",
    "print(triosSolo(trios(dizhu),solos(dizhu)))\n",
    "print(triosPair(trios(dizhu),pairs(dizhu)))"
   ]
  },
  {
   "cell_type": "code",
   "execution_count": null,
   "metadata": {},
   "outputs": [],
   "source": []
  }
 ],
 "metadata": {
  "kernelspec": {
   "display_name": "Python 3",
   "language": "python",
   "name": "python3"
  },
  "language_info": {
   "codemirror_mode": {
    "name": "ipython",
    "version": 3
   },
   "file_extension": ".py",
   "mimetype": "text/x-python",
   "name": "python",
   "nbconvert_exporter": "python",
   "pygments_lexer": "ipython3",
   "version": "3.7.3"
  }
 },
 "nbformat": 4,
 "nbformat_minor": 2
}
