{
 "cells": [
  {
   "cell_type": "code",
   "execution_count": 45,
   "metadata": {},
   "outputs": [],
   "source": [
    "def sort_by_value(d): \n",
    "    items=d.items() \n",
    "    backitems=[[v[1],v[0]] for v in items] \n",
    "    backitems.sort() \n",
    "    return [ backitems[i][1] for i in range(0,len(backitems))] "
   ]
  },
  {
   "cell_type": "code",
   "execution_count": 46,
   "metadata": {},
   "outputs": [],
   "source": [
    "rankStd={'3':0,'4':1,'5':2,'6':3,'7':4,'8':5,'9':6,'T':7,'J':8,'Q':9,'K':10,'A':11,'2':12,'B':13,'S':14}\n",
    "def sortInRanks(cardsin):\n",
    "    dictin = {}\n",
    "    for cardi in cardsin:\n",
    "        dictin[cardi]=rankStd[cardi]\n",
    "    \n",
    "    return sort_by_value(dictin)"
   ]
  },
  {
   "cell_type": "code",
   "execution_count": 47,
   "metadata": {},
   "outputs": [],
   "source": [
    "def solos(cardsIn):\n",
    "    cardsIn = list(set(cardsIn))\n",
    "    cardsIn = sortInRanks(cardsIn)\n",
    "    return(cardsIn)"
   ]
  },
  {
   "cell_type": "code",
   "execution_count": 48,
   "metadata": {},
   "outputs": [],
   "source": [
    "def pairs(cardsIn):\n",
    "    listpair = []\n",
    "    for i in cardsIn:\n",
    "        if cardsIn.count(i)==2:\n",
    "            listpair = listpair + [i]\n",
    "    listpair = list(set(listpair))\n",
    "    return(sortInRanks(listpair))"
   ]
  },
  {
   "cell_type": "code",
   "execution_count": 49,
   "metadata": {},
   "outputs": [],
   "source": [
    "def trios(cardsIn):\n",
    "    listpair = []\n",
    "    for i in cardsIn:\n",
    "        if cardsIn.count(i)==3:\n",
    "            listpair = listpair + [i]\n",
    "    listpair = list(set(listpair))\n",
    "    return(sortInRanks(listpair))"
   ]
  },
  {
   "cell_type": "code",
   "execution_count": 67,
   "metadata": {},
   "outputs": [],
   "source": [
    "def bomb(cardsIn):\n",
    "    listpair = []\n",
    "    for i in cardsIn:\n",
    "        if cardsIn.count(i)==4:\n",
    "            listpair = listpair + [i]\n",
    "    listpair = list(set(listpair))\n",
    "    return(sortInRanks(listpair))"
   ]
  },
  {
   "cell_type": "code",
   "execution_count": 68,
   "metadata": {},
   "outputs": [],
   "source": [
    "def rocket(cardsIn):\n",
    "    if 'B' in cardsIn and 'S' in cardsIn:\n",
    "        return ['BS']\n",
    "    else:\n",
    "        return []"
   ]
  },
  {
   "cell_type": "code",
   "execution_count": 69,
   "metadata": {},
   "outputs": [
    {
     "name": "stdout",
     "output_type": "stream",
     "text": [
      "['T', 'A', '7', '8', 'S', 'A', '4', '8', '8', '5', 'J', '3', 'B', '9', 'Q', '6', '2', '4', '6', 'J']\n",
      "['J', '4', 'T', '5', '6', '4', 'K', '9', 'K', '6', '3', 'Q', 'Q', '5', '2', 'T', '3']\n",
      "['Q', 'T', 'A', '8', 'K', '2', '2', '9', '3', '5', '7', 'A', '9', 'J', '7', '7', 'K']\n"
     ]
    }
   ],
   "source": [
    "import random\n",
    "list1 = ['A']*4\n",
    "list2 = ['2']*4\n",
    "list3 = ['3']*4\n",
    "list4 = ['4']*4\n",
    "list5 = ['5']*4\n",
    "list6 = ['6']*4\n",
    "list7 = ['7']*4\n",
    "list8 = ['8']*4\n",
    "list9 = ['9']*4\n",
    "listT = ['T']*4\n",
    "listJ = ['J']*4\n",
    "listQ = ['Q']*4\n",
    "listK = ['K']*4\n",
    "listB = ['B']\n",
    "listS = ['S']\n",
    "allcards = list1+list2+list3+list4+list5+list6+list7+list8+list9+listT+listJ+listQ+listK+listB+listS\n",
    "allcards\n",
    "random.seed(10)\n",
    "dizhu = random.sample(allcards, 20)  \n",
    "for x in dizhu:\n",
    "    allcards.remove(x)\n",
    "    \n",
    "dizhuup = random.sample(allcards, 17)  \n",
    "for x in dizhuup:\n",
    "    allcards.remove(x)\n",
    "\n",
    "dizhudown = random.sample(allcards, 17)  \n",
    "for x in dizhudown:\n",
    "    allcards.remove(x)\n",
    "\n",
    "print(dizhu) \n",
    "print(dizhuup)\n",
    "print(dizhudown)"
   ]
  },
  {
   "cell_type": "code",
   "execution_count": 95,
   "metadata": {},
   "outputs": [
    {
     "data": {
      "text/plain": [
       "['3', '4', '5', '6', '7', '8', '9', 'T', 'J', 'Q', 'A', '2', 'B', 'S']"
      ]
     },
     "execution_count": 95,
     "metadata": {},
     "output_type": "execute_result"
    }
   ],
   "source": [
    "solosList = solos(dizhu)\n",
    "solosList"
   ]
  },
  {
   "cell_type": "code",
   "execution_count": 148,
   "metadata": {},
   "outputs": [
    {
     "data": {
      "text/plain": [
       "['3', '4', '5', '6', 'T', 'Q', 'K']"
      ]
     },
     "execution_count": 148,
     "metadata": {},
     "output_type": "execute_result"
    }
   ],
   "source": [
    "pairsList = pairs(dizhuup)\n",
    "pairsList"
   ]
  },
  {
   "cell_type": "code",
   "execution_count": 72,
   "metadata": {},
   "outputs": [
    {
     "data": {
      "text/plain": [
       "['8']"
      ]
     },
     "execution_count": 72,
     "metadata": {},
     "output_type": "execute_result"
    }
   ],
   "source": [
    "trios(dizhu)"
   ]
  },
  {
   "cell_type": "code",
   "execution_count": 73,
   "metadata": {},
   "outputs": [
    {
     "data": {
      "text/plain": [
       "[]"
      ]
     },
     "execution_count": 73,
     "metadata": {},
     "output_type": "execute_result"
    }
   ],
   "source": [
    "bomb(dizhu)"
   ]
  },
  {
   "cell_type": "code",
   "execution_count": 75,
   "metadata": {},
   "outputs": [
    {
     "data": {
      "text/plain": [
       "['BS']"
      ]
     },
     "execution_count": 75,
     "metadata": {},
     "output_type": "execute_result"
    }
   ],
   "source": [
    "rocket(dizhu)"
   ]
  },
  {
   "cell_type": "code",
   "execution_count": 135,
   "metadata": {},
   "outputs": [],
   "source": [
    "def solosChains(solosList):\n",
    "    if '2' in solosList:\n",
    "        solosList.remove('2')\n",
    "    if 'B' in solosList:\n",
    "        solosList.remove('B')\n",
    "    if 'S' in solosList:\n",
    "        solosList.remove('S')\n",
    "    lensolosList = len(solosList)\n",
    "    solosChainsList=[]\n",
    "    for lenth in [5,6,7,8,9,10,11,12]:\n",
    "        if lenth<=lensolosList:\n",
    "            for i in range(lensolosList-lenth):\n",
    "                if rankStd[solosList[i+lenth-1]]-rankStd[solosList[i]]==lenth-1:\n",
    "                    solosChainsList=solosChainsList+[''.join(solosList[i:i+lenth])]\n",
    "                \n",
    "        else:\n",
    "            break\n",
    "    return solosChainsList"
   ]
  },
  {
   "cell_type": "code",
   "execution_count": 152,
   "metadata": {},
   "outputs": [],
   "source": [
    "def pairsChains(pairsList):\n",
    "    if '2' in pairsList:\n",
    "        pairsList.remove('2')\n",
    "    if 'B' in pairsList:\n",
    "        pairsList.remove('B')\n",
    "    if 'S' in pairsList:\n",
    "        pairsList.remove('S')\n",
    "    lenpairsList = len(pairsList)\n",
    "    pairsChainsList=[]\n",
    "    for lenth in [3,4,5,6,7,8,9,10]:\n",
    "        if lenth<=lenpairsList:\n",
    "            for i in range(lenpairsList-lenth):\n",
    "                if rankStd[pairsList[i+lenth-1]]-rankStd[pairsList[i]]==lenth-1:\n",
    "                    pairsList2 = pairsList[i:i+lenth]*2\n",
    "                    pairsList2.sort()\n",
    "                    pairsChainsList=pairsChainsList+[''.join(pairsList2)]\n",
    "                \n",
    "        else:\n",
    "            break\n",
    "    return pairsChainsList"
   ]
  },
  {
   "cell_type": "code",
   "execution_count": 153,
   "metadata": {},
   "outputs": [
    {
     "data": {
      "text/plain": [
       "['334455', '445566', '33445566']"
      ]
     },
     "execution_count": 153,
     "metadata": {},
     "output_type": "execute_result"
    }
   ],
   "source": [
    "pairsChains(pairsList)"
   ]
  },
  {
   "cell_type": "code",
   "execution_count": 136,
   "metadata": {},
   "outputs": [
    {
     "data": {
      "text/plain": [
       "['34567',\n",
       " '45678',\n",
       " '56789',\n",
       " '6789T',\n",
       " '789TJ',\n",
       " '89TJQ',\n",
       " '345678',\n",
       " '456789',\n",
       " '56789T',\n",
       " '6789TJ',\n",
       " '789TJQ',\n",
       " '3456789',\n",
       " '456789T',\n",
       " '56789TJ',\n",
       " '6789TJQ',\n",
       " '3456789T',\n",
       " '456789TJ',\n",
       " '56789TJQ',\n",
       " '3456789TJ',\n",
       " '456789TJQ',\n",
       " '3456789TJQ']"
      ]
     },
     "execution_count": 136,
     "metadata": {},
     "output_type": "execute_result"
    }
   ],
   "source": [
    "solosChains(solosList)"
   ]
  },
  {
   "cell_type": "code",
   "execution_count": 89,
   "metadata": {},
   "outputs": [
    {
     "data": {
      "text/plain": [
       "'34567'"
      ]
     },
     "execution_count": 89,
     "metadata": {},
     "output_type": "execute_result"
    }
   ],
   "source": [
    "''.join(['3', '4', '5', '6', '7'])"
   ]
  },
  {
   "cell_type": "code",
   "execution_count": null,
   "metadata": {},
   "outputs": [],
   "source": []
  }
 ],
 "metadata": {
  "kernelspec": {
   "display_name": "Python 3",
   "language": "python",
   "name": "python3"
  },
  "language_info": {
   "codemirror_mode": {
    "name": "ipython",
    "version": 3
   },
   "file_extension": ".py",
   "mimetype": "text/x-python",
   "name": "python",
   "nbconvert_exporter": "python",
   "pygments_lexer": "ipython3",
   "version": "3.6.8"
  }
 },
 "nbformat": 4,
 "nbformat_minor": 2
}
