{
 "cells": [
  {
   "cell_type": "code",
   "execution_count": 78,
   "metadata": {},
   "outputs": [],
   "source": [
    "import random\n",
    "from utils import cardsDistribution,allWays\n",
    "D,DU,DD=cardsDistribution()\n"
   ]
  },
  {
   "cell_type": "code",
   "execution_count": 79,
   "metadata": {},
   "outputs": [],
   "source": [
    "class player:\n",
    "    def __init__(self,cardsList,playerNo):\n",
    "        self.cardsList=cardsList\n",
    "        self.playerNo=playerNo\n",
    "    def activateRandomPlay(self,cardsFlowStr):\n",
    "        allWaysList = allWays(self.cardsList)\n",
    "        playOut = random.sample(allWaysList, 1)[0]\n",
    "        for cardout in playOut[0]:\n",
    "            self.cardsList.remove(cardout)\n",
    "        return playOut,cardsFlowStr+str(self.playerNo)+','+playOut[0]+';'\n",
    "    def passiveRandomPlay(self,cardsFlowStr,category):\n",
    "        allWaysList = allWays(self.cardsList)\n",
    "        playOut=None\n",
    "        for outplayi in allWaysList:\n",
    "            if category in outplayi:\n",
    "                while 1:\n",
    "                    playOut = random.sample(allWaysList, 1)[0]\n",
    "                    if playOut[1]==category:\n",
    "                        break\n",
    "                break\n",
    "        if playOut:\n",
    "            for cardout in playOut[0]:\n",
    "                self.cardsList.remove(cardout)\n",
    "            return playOut,cardsFlowStr+str(self.playerNo)+','+playOut[0]+';'\n",
    "        else:\n",
    "            playOut=['',category]\n",
    "            return playOut,cardsFlowStr\n",
    "    def modedPlayRandom(self,cardsFlowStr,category=None):\n",
    "        if not category:\n",
    "            return self.activateRandomPlay(cardsFlowStr)\n",
    "        else:\n",
    "            if cardsFlowStr.split(';')[-1].split(',')[0]==str(self.playerNo):\n",
    "                return self.activateRandomPlay(cardsFlowStr)\n",
    "            else:\n",
    "                return self.passiveRandomPlay(cardsFlowStr,category)\n",
    "                "
   ]
  },
  {
   "cell_type": "code",
   "execution_count": 80,
   "metadata": {},
   "outputs": [],
   "source": [
    "dz = player(D,0)\n",
    "dd = player(DD,1)\n",
    "du = player(DU,2)"
   ]
  },
  {
   "cell_type": "code",
   "execution_count": 81,
   "metadata": {
    "collapsed": true
   },
   "outputs": [
    {
     "name": "stdout",
     "output_type": "stream",
     "text": [
      "['555K', 'triosolo']\n",
      "0,555K;\n",
      "['AAAJ', 'triosolo']\n",
      "0,555K;1,AAAJ;\n",
      "['777A', 'triosolo']\n",
      "0,555K;1,AAAJ;2,777A;\n",
      "['SB', 'rocket']\n",
      "0,555K;1,AAAJ;2,777A;0,SB;\n",
      "['', 'rocket']\n",
      "0,555K;1,AAAJ;2,777A;0,SB;\n",
      "['', 'rocket']\n",
      "0,555K;1,AAAJ;2,777A;0,SB;\n",
      "['66', 'pair']\n",
      "0,555K;1,AAAJ;2,777A;0,SB;0,66;\n",
      "['QQ', 'pair']\n",
      "0,555K;1,AAAJ;2,777A;0,SB;0,66;1,QQ;\n",
      "['TT', 'pair']\n",
      "0,555K;1,AAAJ;2,777A;0,SB;0,66;1,QQ;2,TT;\n",
      "['Q', 'solo']\n",
      "0,555K;1,AAAJ;2,777A;0,SB;0,66;1,QQ;2,TT;0,Q;\n",
      "['7', 'solo']\n",
      "0,555K;1,AAAJ;2,777A;0,SB;0,66;1,QQ;2,TT;0,Q;1,7;\n",
      "['3', 'solo']\n",
      "0,555K;1,AAAJ;2,777A;0,SB;0,66;1,QQ;2,TT;0,Q;1,7;2,3;\n",
      "['2', 'solo']\n",
      "0,555K;1,AAAJ;2,777A;0,SB;0,66;1,QQ;2,TT;0,Q;1,7;2,3;0,2;\n",
      "['K', 'solo']\n",
      "0,555K;1,AAAJ;2,777A;0,SB;0,66;1,QQ;2,TT;0,Q;1,7;2,3;0,2;1,K;\n",
      "['K', 'solo']\n",
      "0,555K;1,AAAJ;2,777A;0,SB;0,66;1,QQ;2,TT;0,Q;1,7;2,3;0,2;1,K;2,K;\n",
      "['3', 'solo']\n",
      "0,555K;1,AAAJ;2,777A;0,SB;0,66;1,QQ;2,TT;0,Q;1,7;2,3;0,2;1,K;2,K;0,3;\n",
      "['8', 'solo']\n",
      "0,555K;1,AAAJ;2,777A;0,SB;0,66;1,QQ;2,TT;0,Q;1,7;2,3;0,2;1,K;2,K;0,3;1,8;\n",
      "['4', 'solo']\n",
      "0,555K;1,AAAJ;2,777A;0,SB;0,66;1,QQ;2,TT;0,Q;1,7;2,3;0,2;1,K;2,K;0,3;1,8;2,4;\n",
      "['JJ', 'pair']\n",
      "0,555K;1,AAAJ;2,777A;0,SB;0,66;1,QQ;2,TT;0,Q;1,7;2,3;0,2;1,K;2,K;0,3;1,8;2,4;0,JJ;\n",
      "['22', 'pair']\n",
      "0,555K;1,AAAJ;2,777A;0,SB;0,66;1,QQ;2,TT;0,Q;1,7;2,3;0,2;1,K;2,K;0,3;1,8;2,4;0,JJ;1,22;\n",
      "['88', 'pair']\n",
      "0,555K;1,AAAJ;2,777A;0,SB;0,66;1,QQ;2,TT;0,Q;1,7;2,3;0,2;1,K;2,K;0,3;1,8;2,4;0,JJ;1,22;2,88;\n",
      "['Q', 'solo']\n",
      "0,555K;1,AAAJ;2,777A;0,SB;0,66;1,QQ;2,TT;0,Q;1,7;2,3;0,2;1,K;2,K;0,3;1,8;2,4;0,JJ;1,22;2,88;0,Q;\n",
      "['8', 'solo']\n",
      "0,555K;1,AAAJ;2,777A;0,SB;0,66;1,QQ;2,TT;0,Q;1,7;2,3;0,2;1,K;2,K;0,3;1,8;2,4;0,JJ;1,22;2,88;0,Q;1,8;\n",
      "['4', 'solo']\n",
      "0,555K;1,AAAJ;2,777A;0,SB;0,66;1,QQ;2,TT;0,Q;1,7;2,3;0,2;1,K;2,K;0,3;1,8;2,4;0,JJ;1,22;2,88;0,Q;1,8;2,4;\n",
      "['9', 'solo']\n",
      "0,555K;1,AAAJ;2,777A;0,SB;0,66;1,QQ;2,TT;0,Q;1,7;2,3;0,2;1,K;2,K;0,3;1,8;2,4;0,JJ;1,22;2,88;0,Q;1,8;2,4;0,9;\n",
      "['J', 'solo']\n",
      "0,555K;1,AAAJ;2,777A;0,SB;0,66;1,QQ;2,TT;0,Q;1,7;2,3;0,2;1,K;2,K;0,3;1,8;2,4;0,JJ;1,22;2,88;0,Q;1,8;2,4;0,9;1,J;\n",
      "['6', 'solo']\n",
      "0,555K;1,AAAJ;2,777A;0,SB;0,66;1,QQ;2,TT;0,Q;1,7;2,3;0,2;1,K;2,K;0,3;1,8;2,4;0,JJ;1,22;2,88;0,Q;1,8;2,4;0,9;1,J;2,6;\n",
      "['4', 'solo']\n",
      "0,555K;1,AAAJ;2,777A;0,SB;0,66;1,QQ;2,TT;0,Q;1,7;2,3;0,2;1,K;2,K;0,3;1,8;2,4;0,JJ;1,22;2,88;0,Q;1,8;2,4;0,9;1,J;2,6;0,4;\n",
      "['6', 'solo']\n",
      "0,555K;1,AAAJ;2,777A;0,SB;0,66;1,QQ;2,TT;0,Q;1,7;2,3;0,2;1,K;2,K;0,3;1,8;2,4;0,JJ;1,22;2,88;0,Q;1,8;2,4;0,9;1,J;2,6;0,4;1,6;\n",
      "['5', 'solo']\n",
      "0,555K;1,AAAJ;2,777A;0,SB;0,66;1,QQ;2,TT;0,Q;1,7;2,3;0,2;1,K;2,K;0,3;1,8;2,4;0,JJ;1,22;2,88;0,Q;1,8;2,4;0,9;1,J;2,6;0,4;1,6;2,5;\n",
      "['4', 'solo']\n",
      "0,555K;1,AAAJ;2,777A;0,SB;0,66;1,QQ;2,TT;0,Q;1,7;2,3;0,2;1,K;2,K;0,3;1,8;2,4;0,JJ;1,22;2,88;0,Q;1,8;2,4;0,9;1,J;2,6;0,4;1,6;2,5;0,4;\n",
      "['K', 'solo']\n",
      "0,555K;1,AAAJ;2,777A;0,SB;0,66;1,QQ;2,TT;0,Q;1,7;2,3;0,2;1,K;2,K;0,3;1,8;2,4;0,JJ;1,22;2,88;0,Q;1,8;2,4;0,9;1,J;2,6;0,4;1,6;2,5;0,4;1,K;\n",
      "['9', 'solo']\n",
      "0,555K;1,AAAJ;2,777A;0,SB;0,66;1,QQ;2,TT;0,Q;1,7;2,3;0,2;1,K;2,K;0,3;1,8;2,4;0,JJ;1,22;2,88;0,Q;1,8;2,4;0,9;1,J;2,6;0,4;1,6;2,5;0,4;1,K;2,9;\n",
      "['T', 'solo']\n",
      "0,555K;1,AAAJ;2,777A;0,SB;0,66;1,QQ;2,TT;0,Q;1,7;2,3;0,2;1,K;2,K;0,3;1,8;2,4;0,JJ;1,22;2,88;0,Q;1,8;2,4;0,9;1,J;2,6;0,4;1,6;2,5;0,4;1,K;2,9;0,T;\n",
      "['9', 'solo']\n",
      "0,555K;1,AAAJ;2,777A;0,SB;0,66;1,QQ;2,TT;0,Q;1,7;2,3;0,2;1,K;2,K;0,3;1,8;2,4;0,JJ;1,22;2,88;0,Q;1,8;2,4;0,9;1,J;2,6;0,4;1,6;2,5;0,4;1,K;2,9;0,T;1,9;\n",
      "['3', 'solo']\n",
      "0,555K;1,AAAJ;2,777A;0,SB;0,66;1,QQ;2,TT;0,Q;1,7;2,3;0,2;1,K;2,K;0,3;1,8;2,4;0,JJ;1,22;2,88;0,Q;1,8;2,4;0,9;1,J;2,6;0,4;1,6;2,5;0,4;1,K;2,9;0,T;1,9;2,3;\n",
      "['T', 'solo']\n",
      "0,555K;1,AAAJ;2,777A;0,SB;0,66;1,QQ;2,TT;0,Q;1,7;2,3;0,2;1,K;2,K;0,3;1,8;2,4;0,JJ;1,22;2,88;0,Q;1,8;2,4;0,9;1,J;2,6;0,4;1,6;2,5;0,4;1,K;2,9;0,T;1,9;2,3;0,T;\n",
      "['9', 'solo']\n",
      "0,555K;1,AAAJ;2,777A;0,SB;0,66;1,QQ;2,TT;0,Q;1,7;2,3;0,2;1,K;2,K;0,3;1,8;2,4;0,JJ;1,22;2,88;0,Q;1,8;2,4;0,9;1,J;2,6;0,4;1,6;2,5;0,4;1,K;2,9;0,T;1,9;2,3;0,T;1,9;\n"
     ]
    }
   ],
   "source": [
    "cardsFlowStr=''\n",
    "while 1:\n",
    "    outCards,cardsFlowStr = dz.modedPlayRandom(cardsFlowStr)\n",
    "    print(outCards)\n",
    "    print(cardsFlowStr)\n",
    "    if dz.cardsList==[]:\n",
    "        break\n",
    "    outCards,cardsFlowStr = dd.modedPlayRandom(cardsFlowStr,outCards[1])\n",
    "    print(outCards)\n",
    "    print(cardsFlowStr)\n",
    "    if dd.cardsList==[]:\n",
    "        break\n",
    "    outCards,cardsFlowStr = du.modedPlayRandom(cardsFlowStr,outCards[1])\n",
    "    print(outCards)\n",
    "    print(cardsFlowStr)\n",
    "    if du.cardsList==[]:\n",
    "        break"
   ]
  },
  {
   "cell_type": "code",
   "execution_count": 4,
   "metadata": {
    "collapsed": true
   },
   "outputs": [
    {
     "data": {
      "text/plain": [
       "[['3', 'solo'],\n",
       " ['4', 'solo'],\n",
       " ['5', 'solo'],\n",
       " ['6', 'solo'],\n",
       " ['8', 'solo'],\n",
       " ['9', 'solo'],\n",
       " ['T', 'solo'],\n",
       " ['A', 'solo'],\n",
       " ['2', 'solo'],\n",
       " ['B', 'solo'],\n",
       " ['66', 'pair'],\n",
       " ['88', 'pair'],\n",
       " ['TT', 'pair'],\n",
       " ['22', 'pair'],\n",
       " ['888', 'trio'],\n",
       " ['TTT', 'trio'],\n",
       " ['8888', 'bomb'],\n",
       " ['8883', 'triosolo'],\n",
       " ['8884', 'triosolo'],\n",
       " ['8885', 'triosolo'],\n",
       " ['8886', 'triosolo'],\n",
       " ['8889', 'triosolo'],\n",
       " ['888T', 'triosolo'],\n",
       " ['888A', 'triosolo'],\n",
       " ['8882', 'triosolo'],\n",
       " ['888B', 'triosolo'],\n",
       " ['TTT3', 'triosolo'],\n",
       " ['TTT4', 'triosolo'],\n",
       " ['TTT5', 'triosolo'],\n",
       " ['TTT6', 'triosolo'],\n",
       " ['TTT8', 'triosolo'],\n",
       " ['TTT9', 'triosolo'],\n",
       " ['TTTA', 'triosolo'],\n",
       " ['TTT2', 'triosolo'],\n",
       " ['TTTB', 'triosolo'],\n",
       " ['88866', 'triopair'],\n",
       " ['888TT', 'triopair'],\n",
       " ['88822', 'triopair'],\n",
       " ['TTT66', 'triopair'],\n",
       " ['TTT88', 'triopair'],\n",
       " ['TTT22', 'triopair'],\n",
       " ['888834', 'fourdualsolos'],\n",
       " ['888835', 'fourdualsolos'],\n",
       " ['888836', 'fourdualsolos'],\n",
       " ['888839', 'fourdualsolos'],\n",
       " ['88883T', 'fourdualsolos'],\n",
       " ['88883A', 'fourdualsolos'],\n",
       " ['888832', 'fourdualsolos'],\n",
       " ['88883B', 'fourdualsolos'],\n",
       " ['888845', 'fourdualsolos'],\n",
       " ['888846', 'fourdualsolos'],\n",
       " ['888849', 'fourdualsolos'],\n",
       " ['88884T', 'fourdualsolos'],\n",
       " ['88884A', 'fourdualsolos'],\n",
       " ['888842', 'fourdualsolos'],\n",
       " ['88884B', 'fourdualsolos'],\n",
       " ['888856', 'fourdualsolos'],\n",
       " ['888859', 'fourdualsolos'],\n",
       " ['88885T', 'fourdualsolos'],\n",
       " ['88885A', 'fourdualsolos'],\n",
       " ['888852', 'fourdualsolos'],\n",
       " ['88885B', 'fourdualsolos'],\n",
       " ['888869', 'fourdualsolos'],\n",
       " ['88886T', 'fourdualsolos'],\n",
       " ['88886A', 'fourdualsolos'],\n",
       " ['888862', 'fourdualsolos'],\n",
       " ['88886B', 'fourdualsolos'],\n",
       " ['88889T', 'fourdualsolos'],\n",
       " ['88889A', 'fourdualsolos'],\n",
       " ['888892', 'fourdualsolos'],\n",
       " ['88889B', 'fourdualsolos'],\n",
       " ['8888TA', 'fourdualsolos'],\n",
       " ['8888T2', 'fourdualsolos'],\n",
       " ['8888TB', 'fourdualsolos'],\n",
       " ['8888A2', 'fourdualsolos'],\n",
       " ['8888AB', 'fourdualsolos'],\n",
       " ['88882B', 'fourdualsolos'],\n",
       " ['888866TT', 'fourdualpairs'],\n",
       " ['88886622', 'fourdualpairs'],\n",
       " ['8888TT22', 'fourdualpairs']]"
      ]
     },
     "execution_count": 4,
     "metadata": {},
     "output_type": "execute_result"
    }
   ],
   "source": [
    "allWays(DD)"
   ]
  },
  {
   "cell_type": "code",
   "execution_count": 1,
   "metadata": {},
   "outputs": [
    {
     "name": "stdout",
     "output_type": "stream",
     "text": [
      "a\n",
      "b\n",
      "c\n",
      "d\n"
     ]
    }
   ],
   "source": [
    "for i in  'abcd':\n",
    "    print(i)"
   ]
  },
  {
   "cell_type": "code",
   "execution_count": 52,
   "metadata": {},
   "outputs": [
    {
     "data": {
      "text/plain": [
       "True"
      ]
     },
     "execution_count": 52,
     "metadata": {},
     "output_type": "execute_result"
    }
   ],
   "source": [
    "not None"
   ]
  },
  {
   "cell_type": "code",
   "execution_count": null,
   "metadata": {},
   "outputs": [],
   "source": []
  }
 ],
 "metadata": {
  "kernelspec": {
   "display_name": "Python 3",
   "language": "python",
   "name": "python3"
  },
  "language_info": {
   "codemirror_mode": {
    "name": "ipython",
    "version": 3
   },
   "file_extension": ".py",
   "mimetype": "text/x-python",
   "name": "python",
   "nbconvert_exporter": "python",
   "pygments_lexer": "ipython3",
   "version": "3.7.3"
  }
 },
 "nbformat": 4,
 "nbformat_minor": 2
}
