{
 "cells": [
  {
   "cell_type": "code",
   "execution_count": 1,
   "metadata": {},
   "outputs": [],
   "source": [
    "\n",
    "from utils import cardsDistribution,allWays\n",
    "D,DU,DD=cardsDistribution()\n"
   ]
  },
  {
   "cell_type": "code",
   "execution_count": null,
   "metadata": {},
   "outputs": [],
   "source": [
    "class player:\n",
    "    def __init__(self,allWaysList,playerNo):\n",
    "        self.allWaysList=allWaysList\n",
    "        self.playerNo=playerNo\n",
    "    def activateRandomPlay():\n",
    "        "
   ]
  },
  {
   "cell_type": "code",
   "execution_count": null,
   "metadata": {},
   "outputs": [],
   "source": [
    "flowStr=''\n",
    "while 1:\n",
    "    if\n",
    "    allWays(D)\n",
    "    "
   ]
  },
  {
   "cell_type": "code",
   "execution_count": 4,
   "metadata": {},
   "outputs": [
    {
     "data": {
      "text/plain": [
       "[['3', 'solo'],\n",
       " ['4', 'solo'],\n",
       " ['5', 'solo'],\n",
       " ['6', 'solo'],\n",
       " ['8', 'solo'],\n",
       " ['9', 'solo'],\n",
       " ['T', 'solo'],\n",
       " ['A', 'solo'],\n",
       " ['2', 'solo'],\n",
       " ['B', 'solo'],\n",
       " ['66', 'pair'],\n",
       " ['88', 'pair'],\n",
       " ['TT', 'pair'],\n",
       " ['22', 'pair'],\n",
       " ['888', 'trio'],\n",
       " ['TTT', 'trio'],\n",
       " ['8888', 'bomb'],\n",
       " ['8883', 'triosolo'],\n",
       " ['8884', 'triosolo'],\n",
       " ['8885', 'triosolo'],\n",
       " ['8886', 'triosolo'],\n",
       " ['8889', 'triosolo'],\n",
       " ['888T', 'triosolo'],\n",
       " ['888A', 'triosolo'],\n",
       " ['8882', 'triosolo'],\n",
       " ['888B', 'triosolo'],\n",
       " ['TTT3', 'triosolo'],\n",
       " ['TTT4', 'triosolo'],\n",
       " ['TTT5', 'triosolo'],\n",
       " ['TTT6', 'triosolo'],\n",
       " ['TTT8', 'triosolo'],\n",
       " ['TTT9', 'triosolo'],\n",
       " ['TTTA', 'triosolo'],\n",
       " ['TTT2', 'triosolo'],\n",
       " ['TTTB', 'triosolo'],\n",
       " ['88866', 'triopair'],\n",
       " ['888TT', 'triopair'],\n",
       " ['88822', 'triopair'],\n",
       " ['TTT66', 'triopair'],\n",
       " ['TTT88', 'triopair'],\n",
       " ['TTT22', 'triopair'],\n",
       " ['888834', 'fourdualsolos'],\n",
       " ['888835', 'fourdualsolos'],\n",
       " ['888836', 'fourdualsolos'],\n",
       " ['888839', 'fourdualsolos'],\n",
       " ['88883T', 'fourdualsolos'],\n",
       " ['88883A', 'fourdualsolos'],\n",
       " ['888832', 'fourdualsolos'],\n",
       " ['88883B', 'fourdualsolos'],\n",
       " ['888845', 'fourdualsolos'],\n",
       " ['888846', 'fourdualsolos'],\n",
       " ['888849', 'fourdualsolos'],\n",
       " ['88884T', 'fourdualsolos'],\n",
       " ['88884A', 'fourdualsolos'],\n",
       " ['888842', 'fourdualsolos'],\n",
       " ['88884B', 'fourdualsolos'],\n",
       " ['888856', 'fourdualsolos'],\n",
       " ['888859', 'fourdualsolos'],\n",
       " ['88885T', 'fourdualsolos'],\n",
       " ['88885A', 'fourdualsolos'],\n",
       " ['888852', 'fourdualsolos'],\n",
       " ['88885B', 'fourdualsolos'],\n",
       " ['888869', 'fourdualsolos'],\n",
       " ['88886T', 'fourdualsolos'],\n",
       " ['88886A', 'fourdualsolos'],\n",
       " ['888862', 'fourdualsolos'],\n",
       " ['88886B', 'fourdualsolos'],\n",
       " ['88889T', 'fourdualsolos'],\n",
       " ['88889A', 'fourdualsolos'],\n",
       " ['888892', 'fourdualsolos'],\n",
       " ['88889B', 'fourdualsolos'],\n",
       " ['8888TA', 'fourdualsolos'],\n",
       " ['8888T2', 'fourdualsolos'],\n",
       " ['8888TB', 'fourdualsolos'],\n",
       " ['8888A2', 'fourdualsolos'],\n",
       " ['8888AB', 'fourdualsolos'],\n",
       " ['88882B', 'fourdualsolos'],\n",
       " ['888866TT', 'fourdualpairs'],\n",
       " ['88886622', 'fourdualpairs'],\n",
       " ['8888TT22', 'fourdualpairs']]"
      ]
     },
     "execution_count": 4,
     "metadata": {},
     "output_type": "execute_result"
    }
   ],
   "source": [
    "allWays(DD)"
   ]
  },
  {
   "cell_type": "code",
   "execution_count": null,
   "metadata": {},
   "outputs": [],
   "source": []
  }
 ],
 "metadata": {
  "kernelspec": {
   "display_name": "Python 3",
   "language": "python",
   "name": "python3"
  },
  "language_info": {
   "codemirror_mode": {
    "name": "ipython",
    "version": 3
   },
   "file_extension": ".py",
   "mimetype": "text/x-python",
   "name": "python",
   "nbconvert_exporter": "python",
   "pygments_lexer": "ipython3",
   "version": "3.6.8"
  }
 },
 "nbformat": 4,
 "nbformat_minor": 2
}
